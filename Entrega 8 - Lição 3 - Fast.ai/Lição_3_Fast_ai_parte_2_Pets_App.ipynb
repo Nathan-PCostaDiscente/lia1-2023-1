{
  "cells": [
    {
      "cell_type": "code",
      "execution_count": 1,
      "id": "7cd0d8fa",
      "metadata": {
        "id": "7cd0d8fa"
      },
      "outputs": [],
      "source": [
        "#|default_exp app"
      ]
    },
    {
      "cell_type": "code",
      "source": [
        "from google.colab import drive\n",
        "drive.mount('/content/drive')"
      ],
      "metadata": {
        "colab": {
          "base_uri": "https://localhost:8080/"
        },
        "id": "77LEcq3jZrcE",
        "outputId": "a4e341f9-c5f7-48bb-80d1-dbbcfe785c13"
      },
      "id": "77LEcq3jZrcE",
      "execution_count": 2,
      "outputs": [
        {
          "output_type": "stream",
          "name": "stdout",
          "text": [
            "Mounted at /content/drive\n"
          ]
        }
      ]
    },
    {
      "cell_type": "markdown",
      "id": "7195af18",
      "metadata": {
        "id": "7195af18"
      },
      "source": [
        "## Gradio Pets"
      ]
    },
    {
      "cell_type": "markdown",
      "id": "d0ed8698",
      "metadata": {
        "id": "d0ed8698"
      },
      "source": [
        "### Imports iniciais"
      ]
    },
    {
      "cell_type": "code",
      "source": [
        "! pip install gradio\n",
        "! pip install timm"
      ],
      "metadata": {
        "colab": {
          "base_uri": "https://localhost:8080/"
        },
        "id": "rLOzjtc66XwA",
        "outputId": "de3055b1-90e9-4727-e5ef-0985fd25d43e"
      },
      "id": "rLOzjtc66XwA",
      "execution_count": 3,
      "outputs": [
        {
          "output_type": "stream",
          "name": "stdout",
          "text": [
            "Collecting gradio\n",
            "  Downloading gradio-3.38.0-py3-none-any.whl (19.8 MB)\n",
            "\u001b[2K     \u001b[90m━━━━━━━━━━━━━━━━━━━━━━━━━━━━━━━━━━━━━━━━\u001b[0m \u001b[32m19.8/19.8 MB\u001b[0m \u001b[31m46.9 MB/s\u001b[0m eta \u001b[36m0:00:00\u001b[0m\n",
            "\u001b[?25hCollecting aiofiles<24.0,>=22.0 (from gradio)\n",
            "  Downloading aiofiles-23.1.0-py3-none-any.whl (14 kB)\n",
            "Requirement already satisfied: aiohttp~=3.0 in /usr/local/lib/python3.10/dist-packages (from gradio) (3.8.4)\n",
            "Requirement already satisfied: altair<6.0,>=4.2.0 in /usr/local/lib/python3.10/dist-packages (from gradio) (4.2.2)\n",
            "Collecting fastapi (from gradio)\n",
            "  Downloading fastapi-0.100.0-py3-none-any.whl (65 kB)\n",
            "\u001b[2K     \u001b[90m━━━━━━━━━━━━━━━━━━━━━━━━━━━━━━━━━━━━━━━━\u001b[0m \u001b[32m65.7/65.7 kB\u001b[0m \u001b[31m6.6 MB/s\u001b[0m eta \u001b[36m0:00:00\u001b[0m\n",
            "\u001b[?25hCollecting ffmpy (from gradio)\n",
            "  Downloading ffmpy-0.3.1.tar.gz (5.5 kB)\n",
            "  Preparing metadata (setup.py) ... \u001b[?25l\u001b[?25hdone\n",
            "Collecting gradio-client>=0.2.10 (from gradio)\n",
            "  Downloading gradio_client-0.2.10-py3-none-any.whl (288 kB)\n",
            "\u001b[2K     \u001b[90m━━━━━━━━━━━━━━━━━━━━━━━━━━━━━━━━━━━━━━\u001b[0m \u001b[32m289.0/289.0 kB\u001b[0m \u001b[31m34.8 MB/s\u001b[0m eta \u001b[36m0:00:00\u001b[0m\n",
            "\u001b[?25hCollecting httpx (from gradio)\n",
            "  Downloading httpx-0.24.1-py3-none-any.whl (75 kB)\n",
            "\u001b[2K     \u001b[90m━━━━━━━━━━━━━━━━━━━━━━━━━━━━━━━━━━━━━━━━\u001b[0m \u001b[32m75.4/75.4 kB\u001b[0m \u001b[31m11.0 MB/s\u001b[0m eta \u001b[36m0:00:00\u001b[0m\n",
            "\u001b[?25hCollecting huggingface-hub>=0.14.0 (from gradio)\n",
            "  Downloading huggingface_hub-0.16.4-py3-none-any.whl (268 kB)\n",
            "\u001b[2K     \u001b[90m━━━━━━━━━━━━━━━━━━━━━━━━━━━━━━━━━━━━━━\u001b[0m \u001b[32m268.8/268.8 kB\u001b[0m \u001b[31m29.1 MB/s\u001b[0m eta \u001b[36m0:00:00\u001b[0m\n",
            "\u001b[?25hRequirement already satisfied: jinja2<4.0 in /usr/local/lib/python3.10/dist-packages (from gradio) (3.1.2)\n",
            "Requirement already satisfied: markdown-it-py[linkify]>=2.0.0 in /usr/local/lib/python3.10/dist-packages (from gradio) (3.0.0)\n",
            "Requirement already satisfied: markupsafe~=2.0 in /usr/local/lib/python3.10/dist-packages (from gradio) (2.1.3)\n",
            "Requirement already satisfied: matplotlib~=3.0 in /usr/local/lib/python3.10/dist-packages (from gradio) (3.7.1)\n",
            "Collecting mdit-py-plugins<=0.3.3 (from gradio)\n",
            "  Downloading mdit_py_plugins-0.3.3-py3-none-any.whl (50 kB)\n",
            "\u001b[2K     \u001b[90m━━━━━━━━━━━━━━━━━━━━━━━━━━━━━━━━━━━━━━━━\u001b[0m \u001b[32m50.5/50.5 kB\u001b[0m \u001b[31m4.2 MB/s\u001b[0m eta \u001b[36m0:00:00\u001b[0m\n",
            "\u001b[?25hRequirement already satisfied: numpy~=1.0 in /usr/local/lib/python3.10/dist-packages (from gradio) (1.22.4)\n",
            "Collecting orjson~=3.0 (from gradio)\n",
            "  Downloading orjson-3.9.2-cp310-cp310-manylinux_2_17_x86_64.manylinux2014_x86_64.whl (138 kB)\n",
            "\u001b[2K     \u001b[90m━━━━━━━━━━━━━━━━━━━━━━━━━━━━━━━━━━━━━━\u001b[0m \u001b[32m138.7/138.7 kB\u001b[0m \u001b[31m14.8 MB/s\u001b[0m eta \u001b[36m0:00:00\u001b[0m\n",
            "\u001b[?25hRequirement already satisfied: packaging in /usr/local/lib/python3.10/dist-packages (from gradio) (23.1)\n",
            "Requirement already satisfied: pandas<3.0,>=1.0 in /usr/local/lib/python3.10/dist-packages (from gradio) (1.5.3)\n",
            "Requirement already satisfied: pillow<11.0,>=8.0 in /usr/local/lib/python3.10/dist-packages (from gradio) (8.4.0)\n",
            "Requirement already satisfied: pydantic!=1.8,!=1.8.1,!=2.0.0,!=2.0.1,<3.0.0,>=1.7.4 in /usr/local/lib/python3.10/dist-packages (from gradio) (1.10.11)\n",
            "Collecting pydub (from gradio)\n",
            "  Downloading pydub-0.25.1-py2.py3-none-any.whl (32 kB)\n",
            "Collecting python-multipart (from gradio)\n",
            "  Downloading python_multipart-0.0.6-py3-none-any.whl (45 kB)\n",
            "\u001b[2K     \u001b[90m━━━━━━━━━━━━━━━━━━━━━━━━━━━━━━━━━━━━━━━━\u001b[0m \u001b[32m45.7/45.7 kB\u001b[0m \u001b[31m6.2 MB/s\u001b[0m eta \u001b[36m0:00:00\u001b[0m\n",
            "\u001b[?25hRequirement already satisfied: pyyaml<7.0,>=5.0 in /usr/local/lib/python3.10/dist-packages (from gradio) (6.0.1)\n",
            "Requirement already satisfied: requests~=2.0 in /usr/local/lib/python3.10/dist-packages (from gradio) (2.27.1)\n",
            "Collecting semantic-version~=2.0 (from gradio)\n",
            "  Downloading semantic_version-2.10.0-py2.py3-none-any.whl (15 kB)\n",
            "Requirement already satisfied: typing-extensions~=4.0 in /usr/local/lib/python3.10/dist-packages (from gradio) (4.7.1)\n",
            "Collecting uvicorn>=0.14.0 (from gradio)\n",
            "  Downloading uvicorn-0.23.1-py3-none-any.whl (59 kB)\n",
            "\u001b[2K     \u001b[90m━━━━━━━━━━━━━━━━━━━━━━━━━━━━━━━━━━━━━━━━\u001b[0m \u001b[32m59.5/59.5 kB\u001b[0m \u001b[31m8.0 MB/s\u001b[0m eta \u001b[36m0:00:00\u001b[0m\n",
            "\u001b[?25hCollecting websockets<12.0,>=10.0 (from gradio)\n",
            "  Downloading websockets-11.0.3-cp310-cp310-manylinux_2_5_x86_64.manylinux1_x86_64.manylinux_2_17_x86_64.manylinux2014_x86_64.whl (129 kB)\n",
            "\u001b[2K     \u001b[90m━━━━━━━━━━━━━━━━━━━━━━━━━━━━━━━━━━━━━━\u001b[0m \u001b[32m129.9/129.9 kB\u001b[0m \u001b[31m16.9 MB/s\u001b[0m eta \u001b[36m0:00:00\u001b[0m\n",
            "\u001b[?25hRequirement already satisfied: attrs>=17.3.0 in /usr/local/lib/python3.10/dist-packages (from aiohttp~=3.0->gradio) (23.1.0)\n",
            "Requirement already satisfied: charset-normalizer<4.0,>=2.0 in /usr/local/lib/python3.10/dist-packages (from aiohttp~=3.0->gradio) (2.0.12)\n",
            "Requirement already satisfied: multidict<7.0,>=4.5 in /usr/local/lib/python3.10/dist-packages (from aiohttp~=3.0->gradio) (6.0.4)\n",
            "Requirement already satisfied: async-timeout<5.0,>=4.0.0a3 in /usr/local/lib/python3.10/dist-packages (from aiohttp~=3.0->gradio) (4.0.2)\n",
            "Requirement already satisfied: yarl<2.0,>=1.0 in /usr/local/lib/python3.10/dist-packages (from aiohttp~=3.0->gradio) (1.9.2)\n",
            "Requirement already satisfied: frozenlist>=1.1.1 in /usr/local/lib/python3.10/dist-packages (from aiohttp~=3.0->gradio) (1.4.0)\n",
            "Requirement already satisfied: aiosignal>=1.1.2 in /usr/local/lib/python3.10/dist-packages (from aiohttp~=3.0->gradio) (1.3.1)\n",
            "Requirement already satisfied: entrypoints in /usr/local/lib/python3.10/dist-packages (from altair<6.0,>=4.2.0->gradio) (0.4)\n",
            "Requirement already satisfied: jsonschema>=3.0 in /usr/local/lib/python3.10/dist-packages (from altair<6.0,>=4.2.0->gradio) (4.3.3)\n",
            "Requirement already satisfied: toolz in /usr/local/lib/python3.10/dist-packages (from altair<6.0,>=4.2.0->gradio) (0.12.0)\n",
            "Requirement already satisfied: fsspec in /usr/local/lib/python3.10/dist-packages (from gradio-client>=0.2.10->gradio) (2023.6.0)\n",
            "Requirement already satisfied: filelock in /usr/local/lib/python3.10/dist-packages (from huggingface-hub>=0.14.0->gradio) (3.12.2)\n",
            "Requirement already satisfied: tqdm>=4.42.1 in /usr/local/lib/python3.10/dist-packages (from huggingface-hub>=0.14.0->gradio) (4.65.0)\n",
            "Requirement already satisfied: mdurl~=0.1 in /usr/local/lib/python3.10/dist-packages (from markdown-it-py[linkify]>=2.0.0->gradio) (0.1.2)\n",
            "Collecting linkify-it-py<3,>=1 (from markdown-it-py[linkify]>=2.0.0->gradio)\n",
            "  Downloading linkify_it_py-2.0.2-py3-none-any.whl (19 kB)\n",
            "Requirement already satisfied: contourpy>=1.0.1 in /usr/local/lib/python3.10/dist-packages (from matplotlib~=3.0->gradio) (1.1.0)\n",
            "Requirement already satisfied: cycler>=0.10 in /usr/local/lib/python3.10/dist-packages (from matplotlib~=3.0->gradio) (0.11.0)\n",
            "Requirement already satisfied: fonttools>=4.22.0 in /usr/local/lib/python3.10/dist-packages (from matplotlib~=3.0->gradio) (4.41.0)\n",
            "Requirement already satisfied: kiwisolver>=1.0.1 in /usr/local/lib/python3.10/dist-packages (from matplotlib~=3.0->gradio) (1.4.4)\n",
            "Requirement already satisfied: pyparsing>=2.3.1 in /usr/local/lib/python3.10/dist-packages (from matplotlib~=3.0->gradio) (3.1.0)\n",
            "Requirement already satisfied: python-dateutil>=2.7 in /usr/local/lib/python3.10/dist-packages (from matplotlib~=3.0->gradio) (2.8.2)\n",
            "INFO: pip is looking at multiple versions of mdit-py-plugins to determine which version is compatible with other requirements. This could take a while.\n",
            "Collecting mdit-py-plugins<=0.3.3 (from gradio)\n",
            "  Downloading mdit_py_plugins-0.3.2-py3-none-any.whl (50 kB)\n",
            "\u001b[2K     \u001b[90m━━━━━━━━━━━━━━━━━━━━━━━━━━━━━━━━━━━━━━━━\u001b[0m \u001b[32m50.4/50.4 kB\u001b[0m \u001b[31m6.4 MB/s\u001b[0m eta \u001b[36m0:00:00\u001b[0m\n",
            "\u001b[?25h  Downloading mdit_py_plugins-0.3.1-py3-none-any.whl (46 kB)\n",
            "\u001b[2K     \u001b[90m━━━━━━━━━━━━━━━━━━━━━━━━━━━━━━━━━━━━━━━━\u001b[0m \u001b[32m46.5/46.5 kB\u001b[0m \u001b[31m6.4 MB/s\u001b[0m eta \u001b[36m0:00:00\u001b[0m\n",
            "\u001b[?25h  Downloading mdit_py_plugins-0.3.0-py3-none-any.whl (43 kB)\n",
            "\u001b[2K     \u001b[90m━━━━━━━━━━━━━━━━━━━━━━━━━━━━━━━━━━━━━━━━\u001b[0m \u001b[32m43.7/43.7 kB\u001b[0m \u001b[31m3.3 MB/s\u001b[0m eta \u001b[36m0:00:00\u001b[0m\n",
            "\u001b[?25h  Downloading mdit_py_plugins-0.2.8-py3-none-any.whl (41 kB)\n",
            "\u001b[2K     \u001b[90m━━━━━━━━━━━━━━━━━━━━━━━━━━━━━━━━━━━━━━━━\u001b[0m \u001b[32m41.0/41.0 kB\u001b[0m \u001b[31m5.8 MB/s\u001b[0m eta \u001b[36m0:00:00\u001b[0m\n",
            "\u001b[?25h  Downloading mdit_py_plugins-0.2.7-py3-none-any.whl (41 kB)\n",
            "\u001b[2K     \u001b[90m━━━━━━━━━━━━━━━━━━━━━━━━━━━━━━━━━━━━━━━━\u001b[0m \u001b[32m41.0/41.0 kB\u001b[0m \u001b[31m5.4 MB/s\u001b[0m eta \u001b[36m0:00:00\u001b[0m\n",
            "\u001b[?25h  Downloading mdit_py_plugins-0.2.6-py3-none-any.whl (39 kB)\n",
            "  Downloading mdit_py_plugins-0.2.5-py3-none-any.whl (39 kB)\n",
            "INFO: pip is looking at multiple versions of mdit-py-plugins to determine which version is compatible with other requirements. This could take a while.\n",
            "  Downloading mdit_py_plugins-0.2.4-py3-none-any.whl (39 kB)\n",
            "  Downloading mdit_py_plugins-0.2.3-py3-none-any.whl (39 kB)\n",
            "  Downloading mdit_py_plugins-0.2.2-py3-none-any.whl (39 kB)\n",
            "  Downloading mdit_py_plugins-0.2.1-py3-none-any.whl (38 kB)\n",
            "  Downloading mdit_py_plugins-0.2.0-py3-none-any.whl (38 kB)\n",
            "INFO: This is taking longer than usual. You might need to provide the dependency resolver with stricter constraints to reduce runtime. See https://pip.pypa.io/warnings/backtracking for guidance. If you want to abort this run, press Ctrl + C.\n",
            "  Downloading mdit_py_plugins-0.1.0-py3-none-any.whl (37 kB)\n",
            "Collecting markdown-it-py[linkify]>=2.0.0 (from gradio)\n",
            "  Downloading markdown_it_py-3.0.0-py3-none-any.whl (87 kB)\n",
            "\u001b[2K     \u001b[90m━━━━━━━━━━━━━━━━━━━━━━━━━━━━━━━━━━━━━━━━\u001b[0m \u001b[32m87.5/87.5 kB\u001b[0m \u001b[31m13.8 MB/s\u001b[0m eta \u001b[36m0:00:00\u001b[0m\n",
            "\u001b[?25h  Downloading markdown_it_py-2.2.0-py3-none-any.whl (84 kB)\n",
            "\u001b[2K     \u001b[90m━━━━━━━━━━━━━━━━━━━━━━━━━━━━━━━━━━━━━━━━\u001b[0m \u001b[32m84.5/84.5 kB\u001b[0m \u001b[31m13.0 MB/s\u001b[0m eta \u001b[36m0:00:00\u001b[0m\n",
            "\u001b[?25hRequirement already satisfied: pytz>=2020.1 in /usr/local/lib/python3.10/dist-packages (from pandas<3.0,>=1.0->gradio) (2022.7.1)\n",
            "Requirement already satisfied: urllib3<1.27,>=1.21.1 in /usr/local/lib/python3.10/dist-packages (from requests~=2.0->gradio) (1.26.16)\n",
            "Requirement already satisfied: certifi>=2017.4.17 in /usr/local/lib/python3.10/dist-packages (from requests~=2.0->gradio) (2023.5.7)\n",
            "Requirement already satisfied: idna<4,>=2.5 in /usr/local/lib/python3.10/dist-packages (from requests~=2.0->gradio) (3.4)\n",
            "Requirement already satisfied: click>=7.0 in /usr/local/lib/python3.10/dist-packages (from uvicorn>=0.14.0->gradio) (8.1.6)\n",
            "Collecting h11>=0.8 (from uvicorn>=0.14.0->gradio)\n",
            "  Downloading h11-0.14.0-py3-none-any.whl (58 kB)\n",
            "\u001b[2K     \u001b[90m━━━━━━━━━━━━━━━━━━━━━━━━━━━━━━━━━━━━━━━━\u001b[0m \u001b[32m58.3/58.3 kB\u001b[0m \u001b[31m8.9 MB/s\u001b[0m eta \u001b[36m0:00:00\u001b[0m\n",
            "\u001b[?25hCollecting starlette<0.28.0,>=0.27.0 (from fastapi->gradio)\n",
            "  Downloading starlette-0.27.0-py3-none-any.whl (66 kB)\n",
            "\u001b[2K     \u001b[90m━━━━━━━━━━━━━━━━━━━━━━━━━━━━━━━━━━━━━━━━\u001b[0m \u001b[32m67.0/67.0 kB\u001b[0m \u001b[31m9.2 MB/s\u001b[0m eta \u001b[36m0:00:00\u001b[0m\n",
            "\u001b[?25hCollecting httpcore<0.18.0,>=0.15.0 (from httpx->gradio)\n",
            "  Downloading httpcore-0.17.3-py3-none-any.whl (74 kB)\n",
            "\u001b[2K     \u001b[90m━━━━━━━━━━━━━━━━━━━━━━━━━━━━━━━━━━━━━━━━\u001b[0m \u001b[32m74.5/74.5 kB\u001b[0m \u001b[31m10.8 MB/s\u001b[0m eta \u001b[36m0:00:00\u001b[0m\n",
            "\u001b[?25hRequirement already satisfied: sniffio in /usr/local/lib/python3.10/dist-packages (from httpx->gradio) (1.3.0)\n",
            "Requirement already satisfied: anyio<5.0,>=3.0 in /usr/local/lib/python3.10/dist-packages (from httpcore<0.18.0,>=0.15.0->httpx->gradio) (3.7.1)\n",
            "Requirement already satisfied: pyrsistent!=0.17.0,!=0.17.1,!=0.17.2,>=0.14.0 in /usr/local/lib/python3.10/dist-packages (from jsonschema>=3.0->altair<6.0,>=4.2.0->gradio) (0.19.3)\n",
            "Collecting uc-micro-py (from linkify-it-py<3,>=1->markdown-it-py[linkify]>=2.0.0->gradio)\n",
            "  Downloading uc_micro_py-1.0.2-py3-none-any.whl (6.2 kB)\n",
            "Requirement already satisfied: six>=1.5 in /usr/local/lib/python3.10/dist-packages (from python-dateutil>=2.7->matplotlib~=3.0->gradio) (1.16.0)\n",
            "Requirement already satisfied: exceptiongroup in /usr/local/lib/python3.10/dist-packages (from anyio<5.0,>=3.0->httpcore<0.18.0,>=0.15.0->httpx->gradio) (1.1.2)\n",
            "Building wheels for collected packages: ffmpy\n",
            "  Building wheel for ffmpy (setup.py) ... \u001b[?25l\u001b[?25hdone\n",
            "  Created wheel for ffmpy: filename=ffmpy-0.3.1-py3-none-any.whl size=5579 sha256=2474363ae665f253d5dc5ec7167cb58f226c2a4bfbc405e28d3d038ed9c6ce07\n",
            "  Stored in directory: /root/.cache/pip/wheels/01/a6/d1/1c0828c304a4283b2c1639a09ad86f83d7c487ef34c6b4a1bf\n",
            "Successfully built ffmpy\n",
            "Installing collected packages: pydub, ffmpy, websockets, uc-micro-py, semantic-version, python-multipart, orjson, markdown-it-py, h11, aiofiles, uvicorn, starlette, mdit-py-plugins, linkify-it-py, huggingface-hub, httpcore, httpx, fastapi, gradio-client, gradio\n",
            "  Attempting uninstall: markdown-it-py\n",
            "    Found existing installation: markdown-it-py 3.0.0\n",
            "    Uninstalling markdown-it-py-3.0.0:\n",
            "      Successfully uninstalled markdown-it-py-3.0.0\n",
            "Successfully installed aiofiles-23.1.0 fastapi-0.100.0 ffmpy-0.3.1 gradio-3.38.0 gradio-client-0.2.10 h11-0.14.0 httpcore-0.17.3 httpx-0.24.1 huggingface-hub-0.16.4 linkify-it-py-2.0.2 markdown-it-py-2.2.0 mdit-py-plugins-0.3.3 orjson-3.9.2 pydub-0.25.1 python-multipart-0.0.6 semantic-version-2.10.0 starlette-0.27.0 uc-micro-py-1.0.2 uvicorn-0.23.1 websockets-11.0.3\n",
            "Collecting timm\n",
            "  Downloading timm-0.9.2-py3-none-any.whl (2.2 MB)\n",
            "\u001b[2K     \u001b[90m━━━━━━━━━━━━━━━━━━━━━━━━━━━━━━━━━━━━━━━━\u001b[0m \u001b[32m2.2/2.2 MB\u001b[0m \u001b[31m25.0 MB/s\u001b[0m eta \u001b[36m0:00:00\u001b[0m\n",
            "\u001b[?25hRequirement already satisfied: torch>=1.7 in /usr/local/lib/python3.10/dist-packages (from timm) (2.0.1+cu118)\n",
            "Requirement already satisfied: torchvision in /usr/local/lib/python3.10/dist-packages (from timm) (0.15.2+cu118)\n",
            "Requirement already satisfied: pyyaml in /usr/local/lib/python3.10/dist-packages (from timm) (6.0.1)\n",
            "Requirement already satisfied: huggingface-hub in /usr/local/lib/python3.10/dist-packages (from timm) (0.16.4)\n",
            "Collecting safetensors (from timm)\n",
            "  Downloading safetensors-0.3.1-cp310-cp310-manylinux_2_17_x86_64.manylinux2014_x86_64.whl (1.3 MB)\n",
            "\u001b[2K     \u001b[90m━━━━━━━━━━━━━━━━━━━━━━━━━━━━━━━━━━━━━━━━\u001b[0m \u001b[32m1.3/1.3 MB\u001b[0m \u001b[31m76.8 MB/s\u001b[0m eta \u001b[36m0:00:00\u001b[0m\n",
            "\u001b[?25hRequirement already satisfied: filelock in /usr/local/lib/python3.10/dist-packages (from torch>=1.7->timm) (3.12.2)\n",
            "Requirement already satisfied: typing-extensions in /usr/local/lib/python3.10/dist-packages (from torch>=1.7->timm) (4.7.1)\n",
            "Requirement already satisfied: sympy in /usr/local/lib/python3.10/dist-packages (from torch>=1.7->timm) (1.11.1)\n",
            "Requirement already satisfied: networkx in /usr/local/lib/python3.10/dist-packages (from torch>=1.7->timm) (3.1)\n",
            "Requirement already satisfied: jinja2 in /usr/local/lib/python3.10/dist-packages (from torch>=1.7->timm) (3.1.2)\n",
            "Requirement already satisfied: triton==2.0.0 in /usr/local/lib/python3.10/dist-packages (from torch>=1.7->timm) (2.0.0)\n",
            "Requirement already satisfied: cmake in /usr/local/lib/python3.10/dist-packages (from triton==2.0.0->torch>=1.7->timm) (3.25.2)\n",
            "Requirement already satisfied: lit in /usr/local/lib/python3.10/dist-packages (from triton==2.0.0->torch>=1.7->timm) (16.0.6)\n",
            "Requirement already satisfied: fsspec in /usr/local/lib/python3.10/dist-packages (from huggingface-hub->timm) (2023.6.0)\n",
            "Requirement already satisfied: requests in /usr/local/lib/python3.10/dist-packages (from huggingface-hub->timm) (2.27.1)\n",
            "Requirement already satisfied: tqdm>=4.42.1 in /usr/local/lib/python3.10/dist-packages (from huggingface-hub->timm) (4.65.0)\n",
            "Requirement already satisfied: packaging>=20.9 in /usr/local/lib/python3.10/dist-packages (from huggingface-hub->timm) (23.1)\n",
            "Requirement already satisfied: numpy in /usr/local/lib/python3.10/dist-packages (from torchvision->timm) (1.22.4)\n",
            "Requirement already satisfied: pillow!=8.3.*,>=5.3.0 in /usr/local/lib/python3.10/dist-packages (from torchvision->timm) (8.4.0)\n",
            "Requirement already satisfied: MarkupSafe>=2.0 in /usr/local/lib/python3.10/dist-packages (from jinja2->torch>=1.7->timm) (2.1.3)\n",
            "Requirement already satisfied: urllib3<1.27,>=1.21.1 in /usr/local/lib/python3.10/dist-packages (from requests->huggingface-hub->timm) (1.26.16)\n",
            "Requirement already satisfied: certifi>=2017.4.17 in /usr/local/lib/python3.10/dist-packages (from requests->huggingface-hub->timm) (2023.5.7)\n",
            "Requirement already satisfied: charset-normalizer~=2.0.0 in /usr/local/lib/python3.10/dist-packages (from requests->huggingface-hub->timm) (2.0.12)\n",
            "Requirement already satisfied: idna<4,>=2.5 in /usr/local/lib/python3.10/dist-packages (from requests->huggingface-hub->timm) (3.4)\n",
            "Requirement already satisfied: mpmath>=0.19 in /usr/local/lib/python3.10/dist-packages (from sympy->torch>=1.7->timm) (1.3.0)\n",
            "Installing collected packages: safetensors, timm\n",
            "Successfully installed safetensors-0.3.1 timm-0.9.2\n"
          ]
        }
      ]
    },
    {
      "cell_type": "code",
      "execution_count": 4,
      "id": "44eb0ad3",
      "metadata": {
        "id": "44eb0ad3"
      },
      "outputs": [],
      "source": [
        "#|export\n",
        "from fastai.vision.all import *\n",
        "import gradio as gr\n",
        "import timm"
      ]
    },
    {
      "cell_type": "markdown",
      "id": "27f285f9",
      "metadata": {
        "id": "27f285f9"
      },
      "source": [
        "### Visualizando imagem"
      ]
    },
    {
      "cell_type": "code",
      "execution_count": 5,
      "id": "3295ef11",
      "metadata": {
        "id": "3295ef11",
        "outputId": "5c0f4ced-4e46-42d7-888d-e4d9b5a01f25",
        "colab": {
          "base_uri": "https://localhost:8080/",
          "height": 194
        }
      },
      "outputs": [
        {
          "output_type": "execute_result",
          "data": {
            "text/plain": [
              "PILImage mode=RGB size=224x177"
            ],
            "image/png": "[encoded data removed]"
          },
          "metadata": {},
          "execution_count": 5
        }
      ],
      "source": [
        "im = PILImage.create('/content/drive/MyDrive/Colab Notebooks/collie.jpg')\n",
        "im.thumbnail((224,224))\n",
        "im"
      ]
    },
    {
      "cell_type": "markdown",
      "id": "47ad83fc",
      "metadata": {
        "id": "47ad83fc"
      },
      "source": [
        "### Carregando o modelo treinado previamente"
      ]
    },
    {
      "cell_type": "code",
      "execution_count": 6,
      "id": "ae2bc6ac",
      "metadata": {
        "id": "ae2bc6ac"
      },
      "outputs": [],
      "source": [
        "#export\n",
        "learn = load_learner('/content/drive/MyDrive/Colab Notebooks/model.pkl')"
      ]
    },
    {
      "cell_type": "code",
      "execution_count": 7,
      "id": "6e0bf9da",
      "metadata": {
        "id": "6e0bf9da",
        "outputId": "d01dfe3e-6c18-4cda-8a26-951f9a439a44",
        "colab": {
          "base_uri": "https://localhost:8080/",
          "height": 173
        }
      },
      "outputs": [
        {
          "output_type": "display_data",
          "data": {
            "text/plain": [
              "<IPython.core.display.HTML object>"
            ],
            "text/html": [
              "\n",
              "<style>\n",
              "    /* Turns off some styling */\n",
              "    progress {\n",
              "        /* gets rid of default border in Firefox and Opera. */\n",
              "        border: none;\n",
              "        /* Needs to be in here for Safari polyfill so background images work as expected. */\n",
              "        background-size: auto;\n",
              "    }\n",
              "    progress:not([value]), progress:not([value])::-webkit-progress-bar {\n",
              "        background: repeating-linear-gradient(45deg, #7e7e7e, #7e7e7e 10px, #5c5c5c 10px, #5c5c5c 20px);\n",
              "    }\n",
              "    .progress-bar-interrupted, .progress-bar-interrupted::-webkit-progress-bar {\n",
              "        background: #F44336;\n",
              "    }\n",
              "</style>\n"
            ]
          },
          "metadata": {}
        },
        {
          "output_type": "display_data",
          "data": {
            "text/plain": [
              "<IPython.core.display.HTML object>"
            ],
            "text/html": []
          },
          "metadata": {}
        },
        {
          "output_type": "execute_result",
          "data": {
            "text/plain": [
              "('samoyed',\n",
              " tensor(31),\n",
              " tensor([2.0111e-02, 3.2378e-03, 3.7778e-03, 2.2476e-03, 1.1338e-04, 3.6943e-03,\n",
              "         1.3554e-02, 1.6673e-03, 4.8603e-02, 7.4151e-04, 2.5233e-03, 4.4053e-04,\n",
              "         2.4886e-03, 1.2408e-01, 2.7532e-02, 8.4739e-04, 3.1083e-03, 1.4153e-02,\n",
              "         2.8213e-03, 5.5501e-02, 3.1484e-03, 1.9290e-02, 9.4872e-03, 3.0614e-02,\n",
              "         3.8594e-02, 7.8924e-03, 3.5901e-04, 1.3792e-03, 1.8170e-01, 7.8158e-04,\n",
              "         2.4483e-02, 2.7493e-01, 3.7688e-04, 6.8459e-02, 2.9758e-03, 1.3302e-04,\n",
              "         4.1622e-03]))"
            ]
          },
          "metadata": {},
          "execution_count": 7
        }
      ],
      "source": [
        "learn.predict(im)"
      ]
    },
    {
      "cell_type": "code",
      "execution_count": 8,
      "id": "0419ed3a",
      "metadata": {
        "id": "0419ed3a"
      },
      "outputs": [],
      "source": [
        "#export\n",
        "categories = learn.dls.vocab\n",
        "\n",
        "def classify_image(img):\n",
        "    pred,idx,probs = learn.predict(img)\n",
        "    return dict(zip(categories, map(float,probs)))"
      ]
    },
    {
      "cell_type": "code",
      "execution_count": 9,
      "id": "762dec00",
      "metadata": {
        "id": "762dec00",
        "outputId": "7b0a80af-256b-4da5-bae5-2fd627e92c69",
        "colab": {
          "base_uri": "https://localhost:8080/",
          "height": 659
        }
      },
      "outputs": [
        {
          "output_type": "display_data",
          "data": {
            "text/plain": [
              "<IPython.core.display.HTML object>"
            ],
            "text/html": [
              "\n",
              "<style>\n",
              "    /* Turns off some styling */\n",
              "    progress {\n",
              "        /* gets rid of default border in Firefox and Opera. */\n",
              "        border: none;\n",
              "        /* Needs to be in here for Safari polyfill so background images work as expected. */\n",
              "        background-size: auto;\n",
              "    }\n",
              "    progress:not([value]), progress:not([value])::-webkit-progress-bar {\n",
              "        background: repeating-linear-gradient(45deg, #7e7e7e, #7e7e7e 10px, #5c5c5c 10px, #5c5c5c 20px);\n",
              "    }\n",
              "    .progress-bar-interrupted, .progress-bar-interrupted::-webkit-progress-bar {\n",
              "        background: #F44336;\n",
              "    }\n",
              "</style>\n"
            ]
          },
          "metadata": {}
        },
        {
          "output_type": "display_data",
          "data": {
            "text/plain": [
              "<IPython.core.display.HTML object>"
            ],
            "text/html": []
          },
          "metadata": {}
        },
        {
          "output_type": "execute_result",
          "data": {
            "text/plain": [
              "{'Abyssinian': 0.02011123113334179,\n",
              " 'Bengal': 0.0032378395553678274,\n",
              " 'Birman': 0.0037778010591864586,\n",
              " 'Bombay': 0.002247585216537118,\n",
              " 'British_Shorthair': 0.00011338413605699316,\n",
              " 'Egyptian_Mau': 0.003694299142807722,\n",
              " 'Maine_Coon': 0.01355352345854044,\n",
              " 'Persian': 0.0016672612400725484,\n",
              " 'Ragdoll': 0.048602644354104996,\n",
              " 'Russian_Blue': 0.0007415058207698166,\n",
              " 'Siamese': 0.0025233167689293623,\n",
              " 'Sphynx': 0.0004405336803756654,\n",
              " 'american_bulldog': 0.002488551428541541,\n",
              " 'american_pit_bull_terrier': 0.12407612055540085,\n",
              " 'basset_hound': 0.027531584724783897,\n",
              " 'beagle': 0.0008473925408907235,\n",
              " 'boxer': 0.0031083303038030863,\n",
              " 'chihuahua': 0.01415321696549654,\n",
              " 'english_cocker_spaniel': 0.0028212510515004396,\n",
              " 'english_setter': 0.05550061911344528,\n",
              " 'german_shorthaired': 0.003148413961753249,\n",
              " 'great_pyrenees': 0.01929004304111004,\n",
              " 'havanese': 0.009487220086157322,\n",
              " 'japanese_chin': 0.03061426617205143,\n",
              " 'keeshond': 0.03859364613890648,\n",
              " 'leonberger': 0.00789235532283783,\n",
              " 'miniature_pinscher': 0.0003590098349377513,\n",
              " 'newfoundland': 0.0013792236568406224,\n",
              " 'pomeranian': 0.18169836699962616,\n",
              " 'pug': 0.0007815778953954577,\n",
              " 'saint_bernard': 0.02448277361690998,\n",
              " 'samoyed': 0.2749277949333191,\n",
              " 'scottish_terrier': 0.0003768758033402264,\n",
              " 'shiba_inu': 0.0684593990445137,\n",
              " 'staffordshire_bull_terrier': 0.0029758207965642214,\n",
              " 'wheaten_terrier': 0.0001330231170868501,\n",
              " 'yorkshire_terrier': 0.004162179306149483}"
            ]
          },
          "metadata": {},
          "execution_count": 9
        }
      ],
      "source": [
        "classify_image(im)"
      ]
    },
    {
      "cell_type": "code",
      "execution_count": 10,
      "id": "930cf172",
      "metadata": {
        "id": "930cf172",
        "colab": {
          "base_uri": "https://localhost:8080/"
        },
        "outputId": "1d6c69b3-28ab-431f-fabc-55651d236f1e"
      },
      "outputs": [
        {
          "output_type": "stream",
          "name": "stderr",
          "text": [
            "<ipython-input-10-cec20c7be4e7>:2: GradioDeprecationWarning: Usage of gradio.inputs is deprecated, and will not be supported in the future, please import your component from gradio.components\n",
            "  image = gr.inputs.Image(shape=(192, 192))\n",
            "<ipython-input-10-cec20c7be4e7>:2: GradioDeprecationWarning: `optional` parameter is deprecated, and it has no effect\n",
            "  image = gr.inputs.Image(shape=(192, 192))\n",
            "<ipython-input-10-cec20c7be4e7>:3: GradioDeprecationWarning: Usage of gradio.outputs is deprecated, and will not be supported in the future, please import your components from gradio.components\n",
            "  label = gr.outputs.Label()\n",
            "<ipython-input-10-cec20c7be4e7>:3: GradioUnusedKwargWarning: You have unused kwarg parameters in Label, please remove them: {'type': 'auto'}\n",
            "  label = gr.outputs.Label()\n"
          ]
        }
      ],
      "source": [
        "#export\n",
        "image = gr.inputs.Image(shape=(192, 192))\n",
        "label = gr.outputs.Label()\n",
        "examples = ['/content/drive/MyDrive/Colab Notebooks/collie.jpg']"
      ]
    },
    {
      "cell_type": "code",
      "execution_count": 11,
      "id": "4f463e23",
      "metadata": {
        "id": "4f463e23",
        "outputId": "8563e2dd-91f8-49c6-f056-34987b458a79",
        "colab": {
          "base_uri": "https://localhost:8080/"
        }
      },
      "outputs": [
        {
          "output_type": "stream",
          "name": "stdout",
          "text": [
            "Colab notebook detected. To show errors in colab notebook, set debug=True in launch()\n",
            "Note: opening Chrome Inspector may crash demo inside Colab notebooks.\n",
            "\n",
            "To create a public link, set `share=True` in `launch()`.\n"
          ]
        },
        {
          "output_type": "execute_result",
          "data": {
            "text/plain": []
          },
          "metadata": {},
          "execution_count": 11
        }
      ],
      "source": [
        "#export\n",
        "intf = gr.Interface(fn=classify_image, inputs=image, outputs=label, examples=examples)\n",
        "intf.launch(inline=False)"
      ]
    },
    {
      "cell_type": "code",
      "execution_count": 12,
      "id": "82774c08",
      "metadata": {
        "scrolled": true,
        "tags": [],
        "id": "82774c08",
        "outputId": "06998d00-fd0c-4b45-ab0c-81102fae4b88",
        "colab": {
          "base_uri": "https://localhost:8080/"
        }
      },
      "outputs": [
        {
          "output_type": "execute_result",
          "data": {
            "text/plain": [
              "Sequential(\n",
              "  (0): TimmBody(\n",
              "    (model): ConvNeXt(\n",
              "      (stem): Sequential(\n",
              "        (0): Conv2d(3, 96, kernel_size=(4, 4), stride=(4, 4))\n",
              "        (1): LayerNorm2d((96,), eps=1e-06, elementwise_affine=True)\n",
              "      )\n",
              "      (stages): Sequential(\n",
              "        (0): ConvNeXtStage(\n",
              "          (downsample): Identity()\n",
              "          (blocks): Sequential(\n",
              "            (0): ConvNeXtBlock(\n",
              "              (conv_dw): Conv2d(96, 96, kernel_size=(7, 7), stride=(1, 1), padding=(3, 3), groups=96)\n",
              "              (norm): LayerNorm((96,), eps=1e-06, elementwise_affine=True)\n",
              "              (mlp): Mlp(\n",
              "                (fc1): Linear(in_features=96, out_features=384, bias=True)\n",
              "                (act): GELU()\n",
              "                (drop1): Dropout(p=0.0, inplace=False)\n",
              "                (norm): Identity()\n",
              "                (fc2): Linear(in_features=384, out_features=96, bias=True)\n",
              "                (drop2): Dropout(p=0.0, inplace=False)\n",
              "              )\n",
              "              (shortcut): Identity()\n",
              "              (drop_path): Identity()\n",
              "            )\n",
              "            (1): ConvNeXtBlock(\n",
              "              (conv_dw): Conv2d(96, 96, kernel_size=(7, 7), stride=(1, 1), padding=(3, 3), groups=96)\n",
              "              (norm): LayerNorm((96,), eps=1e-06, elementwise_affine=True)\n",
              "              (mlp): Mlp(\n",
              "                (fc1): Linear(in_features=96, out_features=384, bias=True)\n",
              "                (act): GELU()\n",
              "                (drop1): Dropout(p=0.0, inplace=False)\n",
              "                (norm): Identity()\n",
              "                (fc2): Linear(in_features=384, out_features=96, bias=True)\n",
              "                (drop2): Dropout(p=0.0, inplace=False)\n",
              "              )\n",
              "              (shortcut): Identity()\n",
              "              (drop_path): Identity()\n",
              "            )\n",
              "            (2): ConvNeXtBlock(\n",
              "              (conv_dw): Conv2d(96, 96, kernel_size=(7, 7), stride=(1, 1), padding=(3, 3), groups=96)\n",
              "              (norm): LayerNorm((96,), eps=1e-06, elementwise_affine=True)\n",
              "              (mlp): Mlp(\n",
              "                (fc1): Linear(in_features=96, out_features=384, bias=True)\n",
              "                (act): GELU()\n",
              "                (drop1): Dropout(p=0.0, inplace=False)\n",
              "                (norm): Identity()\n",
              "                (fc2): Linear(in_features=384, out_features=96, bias=True)\n",
              "                (drop2): Dropout(p=0.0, inplace=False)\n",
              "              )\n",
              "              (shortcut): Identity()\n",
              "              (drop_path): Identity()\n",
              "            )\n",
              "          )\n",
              "        )\n",
              "        (1): ConvNeXtStage(\n",
              "          (downsample): Sequential(\n",
              "            (0): LayerNorm2d((96,), eps=1e-06, elementwise_affine=True)\n",
              "            (1): Conv2d(96, 192, kernel_size=(2, 2), stride=(2, 2))\n",
              "          )\n",
              "          (blocks): Sequential(\n",
              "            (0): ConvNeXtBlock(\n",
              "              (conv_dw): Conv2d(192, 192, kernel_size=(7, 7), stride=(1, 1), padding=(3, 3), groups=192)\n",
              "              (norm): LayerNorm((192,), eps=1e-06, elementwise_affine=True)\n",
              "              (mlp): Mlp(\n",
              "                (fc1): Linear(in_features=192, out_features=768, bias=True)\n",
              "                (act): GELU()\n",
              "                (drop1): Dropout(p=0.0, inplace=False)\n",
              "                (norm): Identity()\n",
              "                (fc2): Linear(in_features=768, out_features=192, bias=True)\n",
              "                (drop2): Dropout(p=0.0, inplace=False)\n",
              "              )\n",
              "              (shortcut): Identity()\n",
              "              (drop_path): Identity()\n",
              "            )\n",
              "            (1): ConvNeXtBlock(\n",
              "              (conv_dw): Conv2d(192, 192, kernel_size=(7, 7), stride=(1, 1), padding=(3, 3), groups=192)\n",
              "              (norm): LayerNorm((192,), eps=1e-06, elementwise_affine=True)\n",
              "              (mlp): Mlp(\n",
              "                (fc1): Linear(in_features=192, out_features=768, bias=True)\n",
              "                (act): GELU()\n",
              "                (drop1): Dropout(p=0.0, inplace=False)\n",
              "                (norm): Identity()\n",
              "                (fc2): Linear(in_features=768, out_features=192, bias=True)\n",
              "                (drop2): Dropout(p=0.0, inplace=False)\n",
              "              )\n",
              "              (shortcut): Identity()\n",
              "              (drop_path): Identity()\n",
              "            )\n",
              "            (2): ConvNeXtBlock(\n",
              "              (conv_dw): Conv2d(192, 192, kernel_size=(7, 7), stride=(1, 1), padding=(3, 3), groups=192)\n",
              "              (norm): LayerNorm((192,), eps=1e-06, elementwise_affine=True)\n",
              "              (mlp): Mlp(\n",
              "                (fc1): Linear(in_features=192, out_features=768, bias=True)\n",
              "                (act): GELU()\n",
              "                (drop1): Dropout(p=0.0, inplace=False)\n",
              "                (norm): Identity()\n",
              "                (fc2): Linear(in_features=768, out_features=192, bias=True)\n",
              "                (drop2): Dropout(p=0.0, inplace=False)\n",
              "              )\n",
              "              (shortcut): Identity()\n",
              "              (drop_path): Identity()\n",
              "            )\n",
              "          )\n",
              "        )\n",
              "        (2): ConvNeXtStage(\n",
              "          (downsample): Sequential(\n",
              "            (0): LayerNorm2d((192,), eps=1e-06, elementwise_affine=True)\n",
              "            (1): Conv2d(192, 384, kernel_size=(2, 2), stride=(2, 2))\n",
              "          )\n",
              "          (blocks): Sequential(\n",
              "            (0): ConvNeXtBlock(\n",
              "              (conv_dw): Conv2d(384, 384, kernel_size=(7, 7), stride=(1, 1), padding=(3, 3), groups=384)\n",
              "              (norm): LayerNorm((384,), eps=1e-06, elementwise_affine=True)\n",
              "              (mlp): Mlp(\n",
              "                (fc1): Linear(in_features=384, out_features=1536, bias=True)\n",
              "                (act): GELU()\n",
              "                (drop1): Dropout(p=0.0, inplace=False)\n",
              "                (norm): Identity()\n",
              "                (fc2): Linear(in_features=1536, out_features=384, bias=True)\n",
              "                (drop2): Dropout(p=0.0, inplace=False)\n",
              "              )\n",
              "              (shortcut): Identity()\n",
              "              (drop_path): Identity()\n",
              "            )\n",
              "            (1): ConvNeXtBlock(\n",
              "              (conv_dw): Conv2d(384, 384, kernel_size=(7, 7), stride=(1, 1), padding=(3, 3), groups=384)\n",
              "              (norm): LayerNorm((384,), eps=1e-06, elementwise_affine=True)\n",
              "              (mlp): Mlp(\n",
              "                (fc1): Linear(in_features=384, out_features=1536, bias=True)\n",
              "                (act): GELU()\n",
              "                (drop1): Dropout(p=0.0, inplace=False)\n",
              "                (norm): Identity()\n",
              "                (fc2): Linear(in_features=1536, out_features=384, bias=True)\n",
              "                (drop2): Dropout(p=0.0, inplace=False)\n",
              "              )\n",
              "              (shortcut): Identity()\n",
              "              (drop_path): Identity()\n",
              "            )\n",
              "            (2): ConvNeXtBlock(\n",
              "              (conv_dw): Conv2d(384, 384, kernel_size=(7, 7), stride=(1, 1), padding=(3, 3), groups=384)\n",
              "              (norm): LayerNorm((384,), eps=1e-06, elementwise_affine=True)\n",
              "              (mlp): Mlp(\n",
              "                (fc1): Linear(in_features=384, out_features=1536, bias=True)\n",
              "                (act): GELU()\n",
              "                (drop1): Dropout(p=0.0, inplace=False)\n",
              "                (norm): Identity()\n",
              "                (fc2): Linear(in_features=1536, out_features=384, bias=True)\n",
              "                (drop2): Dropout(p=0.0, inplace=False)\n",
              "              )\n",
              "              (shortcut): Identity()\n",
              "              (drop_path): Identity()\n",
              "            )\n",
              "            (3): ConvNeXtBlock(\n",
              "              (conv_dw): Conv2d(384, 384, kernel_size=(7, 7), stride=(1, 1), padding=(3, 3), groups=384)\n",
              "              (norm): LayerNorm((384,), eps=1e-06, elementwise_affine=True)\n",
              "              (mlp): Mlp(\n",
              "                (fc1): Linear(in_features=384, out_features=1536, bias=True)\n",
              "                (act): GELU()\n",
              "                (drop1): Dropout(p=0.0, inplace=False)\n",
              "                (norm): Identity()\n",
              "                (fc2): Linear(in_features=1536, out_features=384, bias=True)\n",
              "                (drop2): Dropout(p=0.0, inplace=False)\n",
              "              )\n",
              "              (shortcut): Identity()\n",
              "              (drop_path): Identity()\n",
              "            )\n",
              "            (4): ConvNeXtBlock(\n",
              "              (conv_dw): Conv2d(384, 384, kernel_size=(7, 7), stride=(1, 1), padding=(3, 3), groups=384)\n",
              "              (norm): LayerNorm((384,), eps=1e-06, elementwise_affine=True)\n",
              "              (mlp): Mlp(\n",
              "                (fc1): Linear(in_features=384, out_features=1536, bias=True)\n",
              "                (act): GELU()\n",
              "                (drop1): Dropout(p=0.0, inplace=False)\n",
              "                (norm): Identity()\n",
              "                (fc2): Linear(in_features=1536, out_features=384, bias=True)\n",
              "                (drop2): Dropout(p=0.0, inplace=False)\n",
              "              )\n",
              "              (shortcut): Identity()\n",
              "              (drop_path): Identity()\n",
              "            )\n",
              "            (5): ConvNeXtBlock(\n",
              "              (conv_dw): Conv2d(384, 384, kernel_size=(7, 7), stride=(1, 1), padding=(3, 3), groups=384)\n",
              "              (norm): LayerNorm((384,), eps=1e-06, elementwise_affine=True)\n",
              "              (mlp): Mlp(\n",
              "                (fc1): Linear(in_features=384, out_features=1536, bias=True)\n",
              "                (act): GELU()\n",
              "                (drop1): Dropout(p=0.0, inplace=False)\n",
              "                (norm): Identity()\n",
              "                (fc2): Linear(in_features=1536, out_features=384, bias=True)\n",
              "                (drop2): Dropout(p=0.0, inplace=False)\n",
              "              )\n",
              "              (shortcut): Identity()\n",
              "              (drop_path): Identity()\n",
              "            )\n",
              "            (6): ConvNeXtBlock(\n",
              "              (conv_dw): Conv2d(384, 384, kernel_size=(7, 7), stride=(1, 1), padding=(3, 3), groups=384)\n",
              "              (norm): LayerNorm((384,), eps=1e-06, elementwise_affine=True)\n",
              "              (mlp): Mlp(\n",
              "                (fc1): Linear(in_features=384, out_features=1536, bias=True)\n",
              "                (act): GELU()\n",
              "                (drop1): Dropout(p=0.0, inplace=False)\n",
              "                (norm): Identity()\n",
              "                (fc2): Linear(in_features=1536, out_features=384, bias=True)\n",
              "                (drop2): Dropout(p=0.0, inplace=False)\n",
              "              )\n",
              "              (shortcut): Identity()\n",
              "              (drop_path): Identity()\n",
              "            )\n",
              "            (7): ConvNeXtBlock(\n",
              "              (conv_dw): Conv2d(384, 384, kernel_size=(7, 7), stride=(1, 1), padding=(3, 3), groups=384)\n",
              "              (norm): LayerNorm((384,), eps=1e-06, elementwise_affine=True)\n",
              "              (mlp): Mlp(\n",
              "                (fc1): Linear(in_features=384, out_features=1536, bias=True)\n",
              "                (act): GELU()\n",
              "                (drop1): Dropout(p=0.0, inplace=False)\n",
              "                (norm): Identity()\n",
              "                (fc2): Linear(in_features=1536, out_features=384, bias=True)\n",
              "                (drop2): Dropout(p=0.0, inplace=False)\n",
              "              )\n",
              "              (shortcut): Identity()\n",
              "              (drop_path): Identity()\n",
              "            )\n",
              "            (8): ConvNeXtBlock(\n",
              "              (conv_dw): Conv2d(384, 384, kernel_size=(7, 7), stride=(1, 1), padding=(3, 3), groups=384)\n",
              "              (norm): LayerNorm((384,), eps=1e-06, elementwise_affine=True)\n",
              "              (mlp): Mlp(\n",
              "                (fc1): Linear(in_features=384, out_features=1536, bias=True)\n",
              "                (act): GELU()\n",
              "                (drop1): Dropout(p=0.0, inplace=False)\n",
              "                (norm): Identity()\n",
              "                (fc2): Linear(in_features=1536, out_features=384, bias=True)\n",
              "                (drop2): Dropout(p=0.0, inplace=False)\n",
              "              )\n",
              "              (shortcut): Identity()\n",
              "              (drop_path): Identity()\n",
              "            )\n",
              "          )\n",
              "        )\n",
              "        (3): ConvNeXtStage(\n",
              "          (downsample): Sequential(\n",
              "            (0): LayerNorm2d((384,), eps=1e-06, elementwise_affine=True)\n",
              "            (1): Conv2d(384, 768, kernel_size=(2, 2), stride=(2, 2))\n",
              "          )\n",
              "          (blocks): Sequential(\n",
              "            (0): ConvNeXtBlock(\n",
              "              (conv_dw): Conv2d(768, 768, kernel_size=(7, 7), stride=(1, 1), padding=(3, 3), groups=768)\n",
              "              (norm): LayerNorm((768,), eps=1e-06, elementwise_affine=True)\n",
              "              (mlp): Mlp(\n",
              "                (fc1): Linear(in_features=768, out_features=3072, bias=True)\n",
              "                (act): GELU()\n",
              "                (drop1): Dropout(p=0.0, inplace=False)\n",
              "                (norm): Identity()\n",
              "                (fc2): Linear(in_features=3072, out_features=768, bias=True)\n",
              "                (drop2): Dropout(p=0.0, inplace=False)\n",
              "              )\n",
              "              (shortcut): Identity()\n",
              "              (drop_path): Identity()\n",
              "            )\n",
              "            (1): ConvNeXtBlock(\n",
              "              (conv_dw): Conv2d(768, 768, kernel_size=(7, 7), stride=(1, 1), padding=(3, 3), groups=768)\n",
              "              (norm): LayerNorm((768,), eps=1e-06, elementwise_affine=True)\n",
              "              (mlp): Mlp(\n",
              "                (fc1): Linear(in_features=768, out_features=3072, bias=True)\n",
              "                (act): GELU()\n",
              "                (drop1): Dropout(p=0.0, inplace=False)\n",
              "                (norm): Identity()\n",
              "                (fc2): Linear(in_features=3072, out_features=768, bias=True)\n",
              "                (drop2): Dropout(p=0.0, inplace=False)\n",
              "              )\n",
              "              (shortcut): Identity()\n",
              "              (drop_path): Identity()\n",
              "            )\n",
              "            (2): ConvNeXtBlock(\n",
              "              (conv_dw): Conv2d(768, 768, kernel_size=(7, 7), stride=(1, 1), padding=(3, 3), groups=768)\n",
              "              (norm): LayerNorm((768,), eps=1e-06, elementwise_affine=True)\n",
              "              (mlp): Mlp(\n",
              "                (fc1): Linear(in_features=768, out_features=3072, bias=True)\n",
              "                (act): GELU()\n",
              "                (drop1): Dropout(p=0.0, inplace=False)\n",
              "                (norm): Identity()\n",
              "                (fc2): Linear(in_features=3072, out_features=768, bias=True)\n",
              "                (drop2): Dropout(p=0.0, inplace=False)\n",
              "              )\n",
              "              (shortcut): Identity()\n",
              "              (drop_path): Identity()\n",
              "            )\n",
              "          )\n",
              "        )\n",
              "      )\n",
              "      (norm_pre): Identity()\n",
              "      (head): NormMlpClassifierHead(\n",
              "        (global_pool): SelectAdaptivePool2d (pool_type=avg, flatten=Identity())\n",
              "        (norm): LayerNorm2d((768,), eps=1e-06, elementwise_affine=True)\n",
              "        (flatten): Flatten(start_dim=1, end_dim=-1)\n",
              "        (pre_logits): Identity()\n",
              "        (drop): Dropout(p=0.0, inplace=False)\n",
              "        (fc): Identity()\n",
              "      )\n",
              "    )\n",
              "  )\n",
              "  (1): Sequential(\n",
              "    (0): AdaptiveConcatPool2d(\n",
              "      (ap): AdaptiveAvgPool2d(output_size=1)\n",
              "      (mp): AdaptiveMaxPool2d(output_size=1)\n",
              "    )\n",
              "    (1): fastai.layers.Flatten(full=False)\n",
              "    (2): BatchNorm1d(1536, eps=1e-05, momentum=0.1, affine=True, track_running_stats=True)\n",
              "    (3): Dropout(p=0.25, inplace=False)\n",
              "    (4): Linear(in_features=1536, out_features=512, bias=False)\n",
              "    (5): ReLU(inplace=True)\n",
              "    (6): BatchNorm1d(512, eps=1e-05, momentum=0.1, affine=True, track_running_stats=True)\n",
              "    (7): Dropout(p=0.5, inplace=False)\n",
              "    (8): Linear(in_features=512, out_features=37, bias=False)\n",
              "  )\n",
              ")"
            ]
          },
          "metadata": {},
          "execution_count": 12
        }
      ],
      "source": [
        "m = learn.model\n",
        "m"
      ]
    },
    {
      "cell_type": "code",
      "execution_count": 13,
      "id": "10d7900d",
      "metadata": {
        "id": "10d7900d",
        "outputId": "8ba9e841-e4b6-4c1f-8601-fd18d231396d",
        "colab": {
          "base_uri": "https://localhost:8080/"
        }
      },
      "outputs": [
        {
          "output_type": "execute_result",
          "data": {
            "text/plain": [
              "[Parameter containing:\n",
              " tensor([ 1.2543e+00,  1.9191e+00,  1.2199e+00,  1.0391e+00, -1.3078e-03,\n",
              "          7.6617e-01,  8.8711e-01,  1.6314e+00,  7.0503e-01,  3.2883e+00,\n",
              "          7.8523e-01, -7.7787e-04,  1.0003e+00, -2.7744e-03,  3.2982e+00,\n",
              "         -8.4448e-04,  1.9847e+00,  1.0209e+00,  4.4537e+00,  2.5544e-01,\n",
              "          2.7246e+00,  9.2556e-01,  1.2360e+00,  3.6494e-03,  1.7874e+00,\n",
              "          5.4370e-01,  4.6277e+00,  1.2109e-02,  5.6675e-04,  3.4510e+00,\n",
              "          1.3511e+00,  4.1273e+00,  2.6879e+00,  4.1206e+00,  3.4020e+00,\n",
              "          8.5099e-01,  7.3663e-01,  3.9803e+00,  1.2854e+00,  6.4181e-01,\n",
              "          2.6900e+00,  1.1179e+00,  1.1689e+00,  5.5502e-01,  2.3352e+00,\n",
              "         -2.3020e-04,  9.6765e-01,  1.0829e-03,  1.1989e+00,  1.7890e+00,\n",
              "          4.0141e-01,  4.4967e-01,  9.7079e-01,  3.9895e+00,  6.5887e-01,\n",
              "          6.8768e-01,  9.8544e-01,  2.7056e+00,  1.2168e+00,  7.6242e-01,\n",
              "          3.3005e+00,  1.6200e+00,  9.5588e-01,  2.1212e+00,  6.3008e-01,\n",
              "          4.0337e+00,  8.9202e-01, -4.9049e-04,  4.0875e+00,  1.0646e+00,\n",
              "          1.3968e+00,  1.6687e+00,  1.6781e-03,  7.6750e-01,  8.8657e-01,\n",
              "          6.4231e-01,  1.3445e+00,  7.1519e-01,  5.4597e-01,  2.0898e+00,\n",
              "          1.1958e+00,  3.0763e-01,  2.9619e-01,  1.4702e+00,  4.0850e+00,\n",
              "         -1.8179e-03,  1.1459e+00,  3.8838e+00,  3.5988e+00,  4.8316e-01,\n",
              "          2.1718e-01,  4.2530e-04,  6.4740e-01,  3.0056e+00,  3.0452e+00,\n",
              "          4.0325e-03], requires_grad=True),\n",
              " Parameter containing:\n",
              " tensor([-9.8103e-02, -4.0643e-02,  4.1636e+00, -1.0298e-02,  3.6374e-03,\n",
              "         -2.6636e-02, -3.0698e-02, -7.9988e-02, -1.4104e-01, -6.2869e-02,\n",
              "          3.2180e-01, -3.3705e-01, -5.6713e-02, -5.2220e-03, -4.6837e-02,\n",
              "         -2.5737e-02, -4.2087e-02, -3.9564e-02,  9.5848e-03, -2.4241e-02,\n",
              "          9.0523e-03, -1.6297e-01, -4.0168e+00,  5.3054e-01, -5.3396e-01,\n",
              "          2.8038e+00,  3.6082e-02, -8.2582e-03, -7.9424e-04, -1.1730e-01,\n",
              "         -1.3964e-01,  2.0332e-02, -9.6395e-02, -1.3157e-01, -1.9169e-01,\n",
              "         -6.7312e-02, -3.6307e-02, -1.2959e-01,  1.5103e-01,  2.1055e-03,\n",
              "         -6.6388e-02,  5.7864e-02, -9.3056e-02, -1.1435e+00, -5.4265e-02,\n",
              "         -5.4718e-03, -1.8286e-01,  2.1991e-02,  4.0212e-02, -6.0999e-02,\n",
              "         -4.0674e-02, -5.7230e-02, -4.2572e-02, -1.4266e-02, -1.1178e-01,\n",
              "          6.2517e-03, -3.9017e-02, -1.5827e-01, -9.7923e-02, -1.8505e-01,\n",
              "         -1.1106e-01, -1.8196e-01, -3.2995e-02, -2.7509e-02,  1.4186e+00,\n",
              "         -3.3046e-02, -4.3094e-02, -2.6917e-01, -4.7305e-02, -1.4198e-03,\n",
              "          2.6595e-01,  1.8701e-01,  6.9725e-01, -3.0726e-01,  8.1370e-02,\n",
              "         -1.0851e+00,  1.5845e-02, -4.5376e-02, -7.9595e-02, -6.7877e-02,\n",
              "         -1.3123e-01, -1.7220e-02, -1.9171e-02, -3.8855e-02, -7.0720e-02,\n",
              "          1.1138e-02, -5.8685e-02, -3.7358e-02, -8.0611e-02, -7.3554e-02,\n",
              "         -1.0205e-02, -3.7755e-01, -1.1890e-02, -2.5275e-02, -6.3259e-02,\n",
              "         -1.1164e-03], requires_grad=True)]"
            ]
          },
          "metadata": {},
          "execution_count": 13
        }
      ],
      "source": [
        "l = m.get_submodule('0.model.stem.1')\n",
        "list(l.parameters())"
      ]
    },
    {
      "cell_type": "code",
      "execution_count": 14,
      "id": "008537b0",
      "metadata": {
        "id": "008537b0",
        "outputId": "bc82f673-bf49-4d96-8908-7e954079b58a",
        "colab": {
          "base_uri": "https://localhost:8080/"
        }
      },
      "outputs": [
        {
          "output_type": "execute_result",
          "data": {
            "text/plain": [
              "[Parameter containing:\n",
              " tensor([[ 0.0228, -0.0015,  0.0404,  ...,  0.0018, -0.0453,  0.0081],\n",
              "         [-0.1439,  0.0166,  0.0259,  ...,  0.0126, -0.1044,  0.0563],\n",
              "         [-0.0654, -0.0327,  0.0057,  ..., -0.0416,  0.0660, -0.0403],\n",
              "         ...,\n",
              "         [-0.0088,  0.0698,  0.0002,  ...,  0.0040,  0.0413, -0.0193],\n",
              "         [ 0.0020,  0.0322,  0.0298,  ..., -0.0297, -0.0302,  0.0556],\n",
              "         [ 0.1211, -0.0356, -0.0045,  ..., -0.0063,  0.0238, -0.0115]],\n",
              "        requires_grad=True),\n",
              " Parameter containing:\n",
              " tensor([-0.4048, -0.7419, -0.4235, -0.1651, -0.3026, -0.1899, -0.5534, -0.6272,\n",
              "         -0.3007, -0.4253, -0.5995, -0.4106, -0.2174, -1.7935, -0.3170, -0.1163,\n",
              "         -0.4482, -0.2847, -0.4343, -0.4945, -0.4064, -1.1401, -0.6753, -1.7237,\n",
              "         -0.2954, -0.2655, -0.2187, -0.3914, -0.4150, -0.4771,  0.2365, -0.7541,\n",
              "         -0.5851, -0.1819, -1.5272, -0.3624, -2.4689, -2.3460, -0.6109, -0.4113,\n",
              "         -0.6963, -0.5764, -0.5877, -0.0319, -2.0354, -0.2859, -0.3953, -0.8403,\n",
              "         -2.2400, -1.0874, -0.2296, -0.9002, -0.7584, -0.8833, -0.3753, -0.4549,\n",
              "         -0.3835, -0.4048, -2.0231, -1.0264, -0.4106, -1.1565, -0.2225, -0.4251,\n",
              "         -0.2496, -0.4223, -0.0975, -1.4017, -0.6887, -0.4370, -0.2932, -0.4640,\n",
              "         -0.4957, -1.2535, -1.0720, -1.2966, -0.6275, -1.4163, -2.3080, -2.4537,\n",
              "         -0.4258, -0.9987, -0.4637, -0.3147, -0.2417, -0.8744, -0.2829, -1.4208,\n",
              "         -0.3258, -0.3202, -0.0602, -0.1894, -0.2497, -0.6129, -0.2976, -2.1464,\n",
              "         -0.4128, -0.3676, -1.9814, -0.3813, -0.3785, -0.2293, -0.3699, -0.3256,\n",
              "         -0.5585, -2.4191, -0.4591, -1.7748, -0.3995, -0.4092, -0.3517, -0.5333,\n",
              "         -1.6533, -1.8191,  0.6264, -0.4059,  0.5872, -2.2076, -0.2438, -2.4539,\n",
              "         -0.2283, -0.6866,  0.6989,  0.6477, -0.6445, -0.3453, -0.3277, -0.5702,\n",
              "         -0.5174, -0.2774, -0.4089, -0.3019, -0.4872, -0.4953, -0.4073, -0.4354,\n",
              "         -0.5103, -0.4129, -2.0919, -0.2825, -0.5830, -1.5834,  0.6139, -0.8505,\n",
              "         -0.4669, -2.1358, -0.3418, -0.3766, -0.3345, -0.3961, -0.3885, -0.5668,\n",
              "         -0.2223, -1.3059, -0.4600, -0.3928, -0.4666, -0.4214, -0.4754, -0.2865,\n",
              "         -1.5804, -0.1786, -0.4366, -0.3173,  1.5731, -0.4045, -0.4838, -0.2576,\n",
              "         -0.5613, -0.4265, -0.2579, -0.3175, -0.4619, -1.9552, -1.9145, -0.3961,\n",
              "          0.3987, -2.3519, -0.9689, -0.2831, -1.9002, -0.4180,  0.0159, -1.1109,\n",
              "         -0.4921, -0.3177, -1.8910, -0.3100, -0.8137, -2.3344, -0.3844, -0.3847,\n",
              "         -0.1974, -0.4445, -1.6233, -2.5486, -0.3177, -1.2714, -1.1478,  0.6150,\n",
              "         -0.3748, -0.3950, -2.0747, -0.4657, -0.3781, -0.4957, -0.3282, -1.9219,\n",
              "         -2.0018, -0.5307, -0.2554, -1.1161, -0.3516, -2.2184, -1.1395,  0.5364,\n",
              "         -0.3218, -2.0387, -0.4657,  0.1849, -0.5830, -0.3129,  0.6182, -0.2124,\n",
              "         -2.3538, -0.9699, -0.9784, -0.3667, -0.4502, -1.9565, -0.2662, -1.1755,\n",
              "         -0.4200, -0.9023, -0.3606, -0.5172, -1.1880, -0.4190, -0.4769, -1.5559,\n",
              "         -0.4010, -0.6517, -0.4818, -0.2423,  0.6908, -0.5081, -0.4303, -0.6067,\n",
              "         -0.3999, -0.3330, -0.3596, -1.6108, -0.2371, -0.2467, -0.4546,  0.1806,\n",
              "         -0.3227, -0.3917, -0.3515, -0.3754, -1.2178, -0.4000, -0.3579, -0.2881,\n",
              "         -1.7484, -0.2363, -0.1598, -0.2640, -0.9770, -1.3066, -0.4148, -0.2662,\n",
              "         -0.3932, -0.4627, -0.2175,  0.2140, -0.5732, -0.2767, -0.3659, -0.5172,\n",
              "         -0.3483, -0.3361, -0.6445,  0.6866, -0.3738, -0.2902, -2.0863, -0.4881,\n",
              "         -0.2598, -1.0496, -1.6617, -0.3397, -0.5112, -0.5658, -0.3027, -0.5048,\n",
              "         -0.2877, -0.2840, -0.1983, -0.6910, -0.2872, -2.1120, -0.8926, -0.2300,\n",
              "         -1.5011, -0.4734, -2.2292, -0.4021, -0.2925, -0.4198,  0.6647, -0.3048,\n",
              "         -0.1687, -0.3748, -0.6432, -2.3346, -0.3101, -1.2730, -0.8192, -1.0592,\n",
              "         -0.0933, -1.6386,  0.3425, -0.8485, -0.4910, -0.5002, -1.0632, -0.3532,\n",
              "         -1.1562, -0.3841, -0.3171, -0.6432, -0.9083, -0.6567, -0.6489,  0.6335,\n",
              "         -0.2662, -1.3203, -1.1624, -1.2034, -2.0576, -0.3001, -1.3596, -0.4613,\n",
              "         -0.5024, -0.4949, -0.3157, -0.3271, -0.2668, -0.4278, -0.3296, -0.3011,\n",
              "         -1.6634,  0.6434, -0.9456,  0.6098, -0.4234,  0.3917, -0.4943, -0.4285,\n",
              "         -0.2587, -0.4951, -2.1991, -0.2601, -0.3935, -0.4566, -0.5817, -0.3487,\n",
              "         -0.7371, -0.3589, -0.4895, -2.0106,  0.4556, -0.8056, -1.7749, -0.3511,\n",
              "         -0.5359, -0.2101, -0.3955, -0.4779, -1.1456, -0.3974, -2.2114, -0.2839],\n",
              "        requires_grad=True)]"
            ]
          },
          "metadata": {},
          "execution_count": 14
        }
      ],
      "source": [
        "l = m.get_submodule('0.model.stages.0.blocks.1.mlp.fc1')\n",
        "list(l.parameters())"
      ]
    }
  ],
  "metadata": {
    "kernelspec": {
      "display_name": "Python 3",
      "name": "python3"
    },
    "language_info": {
      "codemirror_mode": {
        "name": "ipython",
        "version": 3
      },
      "file_extension": ".py",
      "mimetype": "text/x-python",
      "name": "python",
      "nbconvert_exporter": "python",
      "pygments_lexer": "ipython3",
      "version": "3.10.0"
    },
    "toc": {
      "base_numbering": 1,
      "nav_menu": {},
      "number_sections": false,
      "sideBar": true,
      "skip_h1_title": false,
      "title_cell": "Table of Contents",
      "title_sidebar": "Contents",
      "toc_cell": false,
      "toc_position": {},
      "toc_section_display": true,
      "toc_window_display": false
    },
    "colab": {
      "provenance": [],
      "gpuType": "T4"
    },
    "accelerator": "GPU"
  },
  "nbformat": 4,
  "nbformat_minor": 5
}