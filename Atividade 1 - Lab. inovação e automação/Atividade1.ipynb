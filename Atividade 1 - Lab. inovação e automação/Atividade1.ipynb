{
 "cells": [
  {
   "cell_type": "markdown",
   "id": "6012dd45",
   "metadata": {},
   "source": [
    "\n",
    "\n",
    " <hr style=\"height:10px\"> \n",
    " \n",
    " <div class='container2'>\n",
    " \t\t<div>\n",
    " \t\t\t<img src='images\\header.jpg' ALIGN='left' style='width:10em'>\n",
    "# \t\t</div>\t\n",
    "# \t<div style='padding: 0 7em 2em 12em;'>\n",
    "# \t<h1>Laboratório de Inovação e Automação 1 (LIA 1)</h1>\n",
    "# \t<div style=\"font-size:12pt;float:left;\"> 2023/1 | 46M34 | Sala 200 CAE</div><br><br>\n",
    "#     <div style=\"font-size:12pt;float:left;\"><b>Projetos de Inteligência Artificial</b></div>\n",
    "# \t</div>\n",
    "# </div>\n",
    "# \n",
    "\n",
    "#  <hr style=\"height:5px\"> \n",
    "    \n",
    "# <h2>Introdução ao Ambiente de Projetos</h2>\n",
    "\n",
    "# Notebook desenvolvido por: Nathan Padilha Costa</a>\n",
    "  <hr style=\"height:2px\"> "
   ]
  },
  {
   "cell_type": "code",
   "execution_count": 1,
   "id": "591ebc09",
   "metadata": {},
   "outputs": [
    {
     "name": "stdout",
     "output_type": "stream",
     "text": [
      "A versão do Python é 3.10.9.\n"
     ]
    }
   ],
   "source": [
    "import platform\n",
    "\n",
    "print(f'A versão do Python é {platform.python_version()}.')"
   ]
  },
  {
   "cell_type": "markdown",
   "id": "3b81637d",
   "metadata": {},
   "source": [
    "# Verificar se o Python está funcionando"
   ]
  },
  {
   "cell_type": "code",
   "execution_count": 19,
   "id": "62721012",
   "metadata": {},
   "outputs": [
    {
     "name": "stdout",
     "output_type": "stream",
     "text": [
      "Bye bye, World!\n"
     ]
    }
   ],
   "source": [
    "\n",
    "print('Bye bye, World!')"
   ]
  },
  {
   "cell_type": "markdown",
   "id": "a89f85b4",
   "metadata": {},
   "source": [
    "# Operadores aritiméticos\n"
   ]
  },
  {
   "cell_type": "markdown",
   "id": "50e03802",
   "metadata": {},
   "source": [
    "# adição"
   ]
  },
  {
   "cell_type": "code",
   "execution_count": 2,
   "id": "bc38d2e0",
   "metadata": {},
   "outputs": [
    {
     "data": {
      "text/plain": [
       "2"
      ]
     },
     "execution_count": 2,
     "metadata": {},
     "output_type": "execute_result"
    }
   ],
   "source": [
    "1+1"
   ]
  },
  {
   "cell_type": "markdown",
   "id": "110d0b13",
   "metadata": {},
   "source": [
    "# subtração"
   ]
  },
  {
   "cell_type": "code",
   "execution_count": 3,
   "id": "e38a6dd3",
   "metadata": {},
   "outputs": [
    {
     "data": {
      "text/plain": [
       "1"
      ]
     },
     "execution_count": 3,
     "metadata": {},
     "output_type": "execute_result"
    }
   ],
   "source": [
    "2-1"
   ]
  },
  {
   "cell_type": "markdown",
   "id": "c2003e66",
   "metadata": {},
   "source": [
    "# multiplicação"
   ]
  },
  {
   "cell_type": "code",
   "execution_count": 4,
   "id": "2bc2f557",
   "metadata": {},
   "outputs": [
    {
     "data": {
      "text/plain": [
       "6"
      ]
     },
     "execution_count": 4,
     "metadata": {},
     "output_type": "execute_result"
    }
   ],
   "source": [
    "2*3"
   ]
  },
  {
   "cell_type": "markdown",
   "id": "8f2ab6ca",
   "metadata": {},
   "source": [
    "# divisão"
   ]
  },
  {
   "cell_type": "code",
   "execution_count": 5,
   "id": "73227680",
   "metadata": {},
   "outputs": [
    {
     "data": {
      "text/plain": [
       "2.0"
      ]
     },
     "execution_count": 5,
     "metadata": {},
     "output_type": "execute_result"
    }
   ],
   "source": [
    "4/2"
   ]
  },
  {
   "cell_type": "markdown",
   "id": "3812f01c",
   "metadata": {},
   "source": [
    "# potência"
   ]
  },
  {
   "cell_type": "code",
   "execution_count": 6,
   "id": "12c7a9f1",
   "metadata": {},
   "outputs": [
    {
     "data": {
      "text/plain": [
       "8"
      ]
     },
     "execution_count": 6,
     "metadata": {},
     "output_type": "execute_result"
    }
   ],
   "source": [
    "2**3"
   ]
  },
  {
   "cell_type": "markdown",
   "id": "9d3a4942",
   "metadata": {},
   "source": [
    "# módulo"
   ]
  },
  {
   "cell_type": "code",
   "execution_count": 7,
   "id": "5bb53cc3",
   "metadata": {},
   "outputs": [
    {
     "data": {
      "text/plain": [
       "1"
      ]
     },
     "execution_count": 7,
     "metadata": {},
     "output_type": "execute_result"
    }
   ],
   "source": [
    "10%3"
   ]
  },
  {
   "cell_type": "markdown",
   "id": "7b897c73",
   "metadata": {},
   "source": [
    "# Tipos de dados (Type)"
   ]
  },
  {
   "cell_type": "markdown",
   "id": "3049ca9c",
   "metadata": {},
   "source": [
    "# inteiro"
   ]
  },
  {
   "cell_type": "code",
   "execution_count": 8,
   "id": "db6331bb",
   "metadata": {},
   "outputs": [
    {
     "data": {
      "text/plain": [
       "int"
      ]
     },
     "execution_count": 8,
     "metadata": {},
     "output_type": "execute_result"
    }
   ],
   "source": [
    "type(5)"
   ]
  },
  {
   "cell_type": "markdown",
   "id": "a61bc921",
   "metadata": {},
   "source": [
    "# decimal"
   ]
  },
  {
   "cell_type": "code",
   "execution_count": 9,
   "id": "4869c4ef",
   "metadata": {},
   "outputs": [
    {
     "data": {
      "text/plain": [
       "float"
      ]
     },
     "execution_count": 9,
     "metadata": {},
     "output_type": "execute_result"
    }
   ],
   "source": [
    "type(5.0)"
   ]
  },
  {
   "cell_type": "markdown",
   "id": "b5f373f1",
   "metadata": {},
   "source": [
    "# string"
   ]
  },
  {
   "cell_type": "code",
   "execution_count": 10,
   "id": "decccf39",
   "metadata": {},
   "outputs": [
    {
     "data": {
      "text/plain": [
       "str"
      ]
     },
     "execution_count": 10,
     "metadata": {},
     "output_type": "execute_result"
    }
   ],
   "source": [
    "type('s')"
   ]
  },
  {
   "cell_type": "markdown",
   "id": "cac8cc20",
   "metadata": {},
   "source": [
    "# Condicionais"
   ]
  },
  {
   "cell_type": "markdown",
   "id": "57224b96",
   "metadata": {},
   "source": [
    "# condicional if (se)"
   ]
  },
  {
   "cell_type": "code",
   "execution_count": 11,
   "id": "ba738eec",
   "metadata": {},
   "outputs": [
    {
     "name": "stdout",
     "output_type": "stream",
     "text": [
      "A sentença é verdadeira\n"
     ]
    }
   ],
   "source": [
    "if 5>0:\n",
    "    print(\"A sentença é verdadeira\")"
   ]
  },
  {
   "cell_type": "markdown",
   "id": "d432769c",
   "metadata": {},
   "source": [
    "# condicional if...else"
   ]
  },
  {
   "cell_type": "code",
   "execution_count": 12,
   "id": "5b6549e4",
   "metadata": {},
   "outputs": [
    {
     "name": "stdout",
     "output_type": "stream",
     "text": [
      "A sentença é falsa\n"
     ]
    }
   ],
   "source": [
    "if 5<2:\n",
    "    print(\"A sentença é verdadeira\")\n",
    "else:\n",
    "    print(\"A sentença é falsa\")"
   ]
  },
  {
   "cell_type": "markdown",
   "id": "5bb6a2d3",
   "metadata": {},
   "source": [
    "# condicional if... else com variável"
   ]
  },
  {
   "cell_type": "code",
   "execution_count": 13,
   "id": "c264b96f",
   "metadata": {},
   "outputs": [
    {
     "name": "stdout",
     "output_type": "stream",
     "text": [
      "Hoje vai chover!\n"
     ]
    }
   ],
   "source": [
    "dia = \"quarta-feira\"\n",
    "if dia ==\"sexta-feira\":\n",
    "        print(\"Hoje fará Sol\")\n",
    "else:\n",
    "    print (\"Hoje vai chover!\")"
   ]
  },
  {
   "cell_type": "markdown",
   "id": "3b85c940",
   "metadata": {},
   "source": [
    "# Lendo arquivos (.txt)"
   ]
  },
  {
   "cell_type": "markdown",
   "id": "24668783",
   "metadata": {},
   "source": [
    "# Abrindo arquivos para leitura"
   ]
  },
  {
   "cell_type": "code",
   "execution_count": 14,
   "id": "5e998319",
   "metadata": {},
   "outputs": [],
   "source": [
    "a2 = open('arquivos/arquivo1.txt', 'r')"
   ]
  },
  {
   "cell_type": "markdown",
   "id": "621d9371",
   "metadata": {},
   "source": [
    "# Gravando em arquivos (.txt)"
   ]
  },
  {
   "cell_type": "markdown",
   "id": "e211329d",
   "metadata": {},
   "source": [
    "# Abrindo arquivos para gravura"
   ]
  },
  {
   "cell_type": "code",
   "execution_count": 15,
   "id": "b8e7a945",
   "metadata": {},
   "outputs": [],
   "source": [
    "a2 = open('arquivos/arquivo1.txt', 'w')"
   ]
  },
  {
   "cell_type": "markdown",
   "id": "ac5ad20b",
   "metadata": {},
   "source": [
    "# Gravando no arquivo"
   ]
  },
  {
   "cell_type": "code",
   "execution_count": 16,
   "id": "c2fb3f6f",
   "metadata": {},
   "outputs": [
    {
     "data": {
      "text/plain": [
       "18"
      ]
     },
     "execution_count": 16,
     "metadata": {},
     "output_type": "execute_result"
    }
   ],
   "source": [
    "a2.write('Aprendendo Python!')"
   ]
  },
  {
   "cell_type": "markdown",
   "id": "bcab3e96",
   "metadata": {},
   "source": [
    "# Abrindo arquivos para leitura"
   ]
  },
  {
   "cell_type": "code",
   "execution_count": 17,
   "id": "f25f823e",
   "metadata": {},
   "outputs": [],
   "source": [
    "a2 = open('arquivos/arquivo1.txt', 'r')"
   ]
  },
  {
   "cell_type": "code",
   "execution_count": 18,
   "id": "49b87aae",
   "metadata": {},
   "outputs": [
    {
     "name": "stdout",
     "output_type": "stream",
     "text": [
      "Aprendendo Python!\n"
     ]
    }
   ],
   "source": [
    "print (a2.read())"
   ]
  },
  {
   "cell_type": "code",
   "execution_count": null,
   "id": "72f1a41e",
   "metadata": {},
   "outputs": [],
   "source": []
  },
  {
   "cell_type": "code",
   "execution_count": null,
   "id": "b7f1c8a6",
   "metadata": {},
   "outputs": [],
   "source": []
  },
  {
   "cell_type": "code",
   "execution_count": null,
   "id": "712991a2",
   "metadata": {},
   "outputs": [],
   "source": []
  },
  {
   "cell_type": "code",
   "execution_count": null,
   "id": "5752f551",
   "metadata": {},
   "outputs": [],
   "source": []
  },
  {
   "cell_type": "code",
   "execution_count": null,
   "id": "9baa17a9",
   "metadata": {},
   "outputs": [],
   "source": []
  },
  {
   "cell_type": "code",
   "execution_count": null,
   "id": "fc842300",
   "metadata": {},
   "outputs": [],
   "source": []
  }
 ],
 "metadata": {
  "kernelspec": {
   "display_name": "Python 3 (ipykernel)",
   "language": "python",
   "name": "python3"
  },
  "language_info": {
   "codemirror_mode": {
    "name": "ipython",
    "version": 3
   },
   "file_extension": ".py",
   "mimetype": "text/x-python",
   "name": "python",
   "nbconvert_exporter": "python",
   "pygments_lexer": "ipython3",
   "version": "3.10.9"
  }
 },
 "nbformat": 4,
 "nbformat_minor": 5
}
